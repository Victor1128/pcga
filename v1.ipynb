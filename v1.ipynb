{
 "cells": [
  {
   "cell_type": "code",
   "execution_count": 1,
   "outputs": [],
   "source": [
    "import numpy as np\n",
    "import pandas as pd\n",
    "from sentence_transformers import SentenceTransformer, util\n",
    "import json\n"
   ],
   "metadata": {
    "collapsed": false
   }
  },
  {
   "cell_type": "code",
   "execution_count": 2,
   "outputs": [],
   "source": [
    "model = SentenceTransformer('all-MiniLM-L6-v2')"
   ],
   "metadata": {
    "collapsed": false
   }
  },
  {
   "cell_type": "code",
   "execution_count": 3,
   "outputs": [],
   "source": [
    "with open('data/train_for_transformer.json') as f:\n",
    "    data = json.load(f)"
   ],
   "metadata": {
    "collapsed": false
   }
  },
  {
   "cell_type": "code",
   "execution_count": 4,
   "outputs": [],
   "source": [
    "products_data = pd.read_parquet('data/company-data-products.snappy.parquet', engine='pyarrow')"
   ],
   "metadata": {
    "collapsed": false
   }
  },
  {
   "cell_type": "code",
   "execution_count": 5,
   "outputs": [],
   "source": [
    "services_data = pd.read_parquet('data/company-data-services.snappy.parquet', engine='pyarrow')"
   ],
   "metadata": {
    "collapsed": false
   }
  },
  {
   "cell_type": "code",
   "execution_count": 10,
   "outputs": [
    {
     "data": {
      "text/plain": "                                root_domain  \\\n0                         1-877-quikdry.com   \n1                            10torsions.com   \n2                             13xlradio.com   \n3                           1801-za.all.biz   \n4  1st-caliber-bail-bonds-llc.business.site   \n\n                                            products  \n0  [Tile Grout Clean, Thermal Imaging, Carpets Cl...  \n1  [Messagerie, Escape Game, Nan, Alimentations, ...  \n2  [Soul Music, After Dark Grooves, Music Related...  \n3  [Electrical Heating, Pedicure Treatment, Metal...  \n4  [1st Caliber Bail Bonds, Bail Bonds, Bail Bond...  ",
      "text/html": "<div>\n<style scoped>\n    .dataframe tbody tr th:only-of-type {\n        vertical-align: middle;\n    }\n\n    .dataframe tbody tr th {\n        vertical-align: top;\n    }\n\n    .dataframe thead th {\n        text-align: right;\n    }\n</style>\n<table border=\"1\" class=\"dataframe\">\n  <thead>\n    <tr style=\"text-align: right;\">\n      <th></th>\n      <th>root_domain</th>\n      <th>products</th>\n    </tr>\n  </thead>\n  <tbody>\n    <tr>\n      <th>0</th>\n      <td>1-877-quikdry.com</td>\n      <td>[Tile Grout Clean, Thermal Imaging, Carpets Cl...</td>\n    </tr>\n    <tr>\n      <th>1</th>\n      <td>10torsions.com</td>\n      <td>[Messagerie, Escape Game, Nan, Alimentations, ...</td>\n    </tr>\n    <tr>\n      <th>2</th>\n      <td>13xlradio.com</td>\n      <td>[Soul Music, After Dark Grooves, Music Related...</td>\n    </tr>\n    <tr>\n      <th>3</th>\n      <td>1801-za.all.biz</td>\n      <td>[Electrical Heating, Pedicure Treatment, Metal...</td>\n    </tr>\n    <tr>\n      <th>4</th>\n      <td>1st-caliber-bail-bonds-llc.business.site</td>\n      <td>[1st Caliber Bail Bonds, Bail Bonds, Bail Bond...</td>\n    </tr>\n  </tbody>\n</table>\n</div>"
     },
     "execution_count": 10,
     "metadata": {},
     "output_type": "execute_result"
    }
   ],
   "source": [
    "products_data.head()"
   ],
   "metadata": {
    "collapsed": false
   }
  },
  {
   "cell_type": "code",
   "execution_count": 5,
   "outputs": [],
   "source": [
    "train_words = list(data.keys())"
   ],
   "metadata": {
    "collapsed": false
   }
  },
  {
   "cell_type": "code",
   "execution_count": 25,
   "outputs": [
    {
     "data": {
      "text/plain": "Batches:   0%|          | 0/1655 [00:00<?, ?it/s]",
      "application/vnd.jupyter.widget-view+json": {
       "version_major": 2,
       "version_minor": 0,
       "model_id": "9fae21f3a1644109a8e0e6915c2adf5d"
      }
     },
     "metadata": {},
     "output_type": "display_data"
    }
   ],
   "source": [
    "emb_train = model.encode(train_words, show_progress_bar=True)"
   ],
   "metadata": {
    "collapsed": false
   }
  },
  {
   "cell_type": "code",
   "execution_count": 6,
   "outputs": [
    {
     "data": {
      "text/plain": "Batches:   0%|          | 0/828 [00:00<?, ?it/s]",
      "application/vnd.jupyter.widget-view+json": {
       "version_major": 2,
       "version_minor": 0,
       "model_id": "3a4b671d965b4797a6cf22671c2ed474"
      }
     },
     "metadata": {},
     "output_type": "display_data"
    }
   ],
   "source": [
    "emb_train_2 = model.encode(train_words, batch_size=64, show_progress_bar=True, convert_to_tensor=True)"
   ],
   "metadata": {
    "collapsed": false
   }
  },
  {
   "cell_type": "code",
   "execution_count": 164,
   "outputs": [],
   "source": [
    "site_index = np.random.randint(0, len(services_data))"
   ],
   "metadata": {
    "collapsed": false
   }
  },
  {
   "cell_type": "code",
   "execution_count": 165,
   "outputs": [
    {
     "data": {
      "text/plain": "'getprintbox.com'"
     },
     "execution_count": 165,
     "metadata": {},
     "output_type": "execute_result"
    }
   ],
   "source": [
    "site = products_data['root_domain'][site_index]\n",
    "site"
   ],
   "metadata": {
    "collapsed": false
   }
  },
  {
   "cell_type": "code",
   "execution_count": 108,
   "outputs": [
    {
     "data": {
      "text/plain": "array(['Wood Pellets A1 Enplus Wood Pellet',\n       'Wood Pellets Acacia Wood Pellet',\n       'Wood Pellets Beech Wood Pellet For Sale',\n       'Wood Pellets Ruf Bark Briquettes For Sale', 'Lignetics Pellets',\n       'Bio Fuels', 'Wood Pellets', 'Enplus Wood', 'Heating System',\n       'Wood Pellets Ruf', 'Mixed Wood', 'Pure Wood Pellets',\n       'Pine Firewood', 'Pine Wood Pellet', 'Beech Wood Pellets',\n       'Din Plus Wood Pellets', 'Wood Pellets A1', 'Driving Suits',\n       'Biomass Pellets Fuel', 'Wood Pellets Beech Wood Pellet',\n       'Charcoal Hexagonal Charcoal For Sale',\n       'Charcoal Hardwood Charcoal', 'Charcoal Hexagonal Charcoal',\n       'Fireplace Inserts', 'Pellet Stoves', 'Energex Pellets',\n       'Wood Pellets Pine Wood Pellet', 'Products Tagged',\n       'Birch Firewood', 'Pine Firewood Birch Firewood',\n       'Lignetics Pellets Pine Firewood',\n       'Wood Pellets Spruce Wood Pellet', 'Polar Firewood', 'Fire Wood',\n       'Fire Wood Polar Firewood', 'A1 Enplus Wood Pellet',\n       'Enplus Wood Pellet', 'Beech Wood Pellet',\n       'Fire Wood Pine Firewood', 'Fire Wood Kiln Dried Oak',\n       'Firewood For Sale', 'Home Fires', 'Kiln Drying',\n       'Fire Wood Beech Firewood', 'Metals Scrap', 'Hardware Parts',\n       'Aluminum & Stainless', 'Plates And Sheets', 'Plate And Sheet',\n       'Metal Piece', 'Scrap Metals', 'Soft Wood', 'Dried Firewood',\n       'Charcoal Hardwood Charcoal For Sale',\n       'Wood Pellets Pine Wood Pellet For Sale',\n       'Wood Pellets Spruce Wood Pellet For Sale',\n       'Fire Wood Pine Firewood For Sale', 'Wood Fuels', 'Stock Units',\n       'Wood Fuel Pellets', 'Sawn Timber', 'Picea Abies',\n       'Pellet Products', 'Fresh Round', 'Wood Fuel Briquettes',\n       'Pinus Sylvestris', 'Kiln Dried Firewood',\n       'Logistics And Deliveries', 'Home / Wood Pellets',\n       'Hexagonal Charcoal', 'Sale Rated 0 Out', 'Ruf Bark Briquettes',\n       'Spruce Firewood', 'Spruce Wood Pellet', 'Bark Briquettes',\n       'Chemicals', 'Binding Materials', 'Calorific Value',\n       'Fuel Boilers', 'Pure Wood', 'Fire Place',\n       'Tbilt HP22I Pellet Stove Fireplace Insert',\n       'Materials Engineering', 'Setup Tools', 'Beech Firewood',\n       'Acacia Wood Pellet', 'Kiln Dried Oak', 'Dried Oak',\n       'Birch , Kiln Dried Oak', 'Reusing Units', 'Scrap Recycling',\n       'Metal Wire'], dtype=object)"
     },
     "execution_count": 108,
     "metadata": {},
     "output_type": "execute_result"
    }
   ],
   "source": [
    "products = products_data[products_data['root_domain'] == site]['products'].values[0]\n",
    "products"
   ],
   "metadata": {
    "collapsed": false
   }
  },
  {
   "cell_type": "code",
   "execution_count": 167,
   "outputs": [
    {
     "data": {
      "text/plain": "'haciendarenacer.org'"
     },
     "execution_count": 167,
     "metadata": {},
     "output_type": "execute_result"
    }
   ],
   "source": [
    "site = services_data['root_domain'][site_index]\n",
    "site"
   ],
   "metadata": {
    "collapsed": false
   }
  },
  {
   "cell_type": "code",
   "execution_count": 168,
   "outputs": [],
   "source": [
    "services = services_data[services_data['root_domain'] == site]['services'].values[0]\n",
    "products = services"
   ],
   "metadata": {
    "collapsed": false
   }
  },
  {
   "cell_type": "code",
   "execution_count": 7,
   "outputs": [],
   "source": [
    "def classify(product_names): #returns a tuple with the predicted category alongside the similarity score(could be considered accuracy)\n",
    "    emb1 = model.encode(product_names)\n",
    "    similarity = [util.cos_sim(emb, emb_train_2) for emb in emb1]\n",
    "    return [(data[train_words[np.argmax(similarity[i])]], max(similarity[i][0]).item()) for i in range(len(similarity))]"
   ],
   "metadata": {
    "collapsed": false
   }
  },
  {
   "cell_type": "code",
   "execution_count": 75,
   "outputs": [],
   "source": [
    "def classify_bad(product_names, k=3): #returns a tuple with the predicted category alongside the similarity score(could be considered accuracy)\n",
    "    emb1 = model.encode(product_names)\n",
    "    similarity = [util.cos_sim(emb, emb_train_2) for emb in emb1]\n",
    "    print(np.bincount(np.argsort(similarity[0])[0][:3]))\n",
    "    return [(data[train_words[np.argmax(np.bincount(np.argsort(similarity[i])[0][:k]))]], max(similarity[i][0]).item()) for i in range(len(similarity))]"
   ],
   "metadata": {
    "collapsed": false
   }
  },
  {
   "cell_type": "code",
   "execution_count": 8,
   "outputs": [],
   "source": [
    "with open('data/categories_correspondance.josn') as f:\n",
    "    categories_correspondance = json.load(f)"
   ],
   "metadata": {
    "collapsed": false
   }
  },
  {
   "cell_type": "code",
   "execution_count": null,
   "outputs": [],
   "source": [
    "for site_index in range(1000):\n",
    "    site = products_data['root_domain'][site_index]\n",
    "    products = products_data[products_data['root_domain'] == site]['products'].values[0]\n",
    "    sim_words = classify(products)\n",
    "    subcategories = {}\n",
    "    subcategories['other'] = []\n",
    "    for i in range(len(sim_words)):\n",
    "        if sim_words[i][1] <= 0.5:\n",
    "            continue\n",
    "        if sim_words[i][1]  >= 0.7:\n",
    "            if sim_words[i][0] not in subcategories.keys():\n",
    "                subcategories[sim_words[i][0]] = [{'title': products[i]}]\n",
    "            else:\n",
    "                subcategories[sim_words[i][0]].append({'title': products[i]})\n",
    "        else:\n",
    "            subcategories['other'].append({'title': products[i]})\n",
    "        print(i, sim_words[i][0], sim_words[i][1])\n",
    "    categories_dict = {}\n",
    "    categories_dict['other'] = []\n",
    "    for key in subcategories.keys():\n",
    "        if key == 'other':\n",
    "            categories_dict[key].append({'title':key, 'products': subcategories[key]})\n",
    "        else:\n",
    "            if categories_correspondance[key] not in categories_dict.keys():\n",
    "                categories_dict[categories_correspondance[key]] = [{'title':key, 'products': subcategories[key]}]\n",
    "            else:\n",
    "                categories_dict[categories_correspondance[key]].append({'title':key, 'products': subcategories[key]})\n",
    "    final_json = {'categories': []}\n",
    "    for key in categories_dict.keys():\n",
    "        final_json['categories'].append({'title': key, 'subcategories': categories_dict[key]})\n",
    "    with open(f'data/predictions/categ_{site_index}.json', 'w') as f:\n",
    "        json.dump(final_json, f, indent=4)\n",
    "\n",
    "# sim_words = classify(['eating healthy'])"
   ],
   "metadata": {
    "collapsed": false,
    "pycharm": {
     "is_executing": true
    }
   }
  },
  {
   "cell_type": "code",
   "execution_count": 170,
   "outputs": [
    {
     "data": {
      "text/plain": "11"
     },
     "execution_count": 170,
     "metadata": {},
     "output_type": "execute_result"
    }
   ],
   "source": [
    "len(sim_words)\n"
   ],
   "metadata": {
    "collapsed": false
   }
  },
  {
   "cell_type": "code",
   "execution_count": 171,
   "outputs": [
    {
     "data": {
      "text/plain": "array(['Internet Service Provider', 'Statistics Statistics',\n       'Marketing Marketing', 'Servicios De Capacitación',\n       'Reiki Y Aromaterapia', 'Galería', 'Misión', 'Visión',\n       'De Servicios', 'Eventos', 'Marketing'], dtype=object)"
     },
     "execution_count": 171,
     "metadata": {},
     "output_type": "execute_result"
    }
   ],
   "source": [
    "products"
   ],
   "metadata": {
    "collapsed": false
   }
  },
  {
   "cell_type": "code",
   "execution_count": 172,
   "outputs": [
    {
     "name": "stdout",
     "output_type": "stream",
     "text": [
      "0 computer services 0.8463644981384277\n",
      "1 statistics 0.9407881498336792\n",
      "2 marketing and distribution 0.7853572964668274\n",
      "3 oil and gas restoration and reclamation services 0.5646058320999146\n",
      "7 patient exam and monitoring products 0.6296977996826172\n",
      "8 livestock services 0.5326584577560425\n",
      "9 fresh vegetables 0.6064268350601196\n",
      "10 advertising 0.7617133259773254\n"
     ]
    }
   ],
   "source": [
    "subcategories = {}\n",
    "subcategories['other'] = []\n",
    "for i in range(len(sim_words)):\n",
    "    if sim_words[i][1] <= 0.5:\n",
    "        continue\n",
    "    if sim_words[i][1]  >= 0.7:\n",
    "        if sim_words[i][0] not in subcategories.keys():\n",
    "            subcategories[sim_words[i][0]] = [{'title': products[i]}]\n",
    "        else:\n",
    "            subcategories[sim_words[i][0]].append({'title': products[i]})\n",
    "    else:\n",
    "        subcategories['other'].append({'title': products[i]})\n",
    "    print(i, sim_words[i][0], sim_words[i][1])\n"
   ],
   "metadata": {
    "collapsed": false
   }
  },
  {
   "cell_type": "code",
   "execution_count": 143,
   "outputs": [
    {
     "data": {
      "text/plain": "[{'title': 'Bio Fuels'},\n {'title': 'Charcoal Hardwood Charcoal'},\n {'title': 'Charcoal Hexagonal Charcoal'},\n {'title': 'Hexagonal Charcoal'}]"
     },
     "execution_count": 143,
     "metadata": {},
     "output_type": "execute_result"
    }
   ],
   "source": [
    "subcategories['fuels']"
   ],
   "metadata": {
    "collapsed": false
   }
  },
  {
   "cell_type": "code",
   "execution_count": 144,
   "outputs": [],
   "source": [
    "import json\n",
    "\n",
    "with open('data/categories_correspondance.josn') as f:\n",
    "    categories_correspondance = json.load(f)"
   ],
   "metadata": {
    "collapsed": false
   }
  },
  {
   "cell_type": "code",
   "execution_count": 145,
   "outputs": [],
   "source": [
    "categories_dict = {}\n",
    "categories_dict['other'] = []\n",
    "for key in subcategories.keys():\n",
    "    if key == 'other':\n",
    "        categories_dict[key].append({'title':key, 'products': subcategories[key]})\n",
    "    else:\n",
    "        if categories_correspondance[key] not in categories_dict.keys():\n",
    "            categories_dict[categories_correspondance[key]] = [{'title':key, 'products': subcategories[key]}]\n",
    "        else:\n",
    "            categories_dict[categories_correspondance[key]].append({'title':key, 'products': subcategories[key]})"
   ],
   "metadata": {
    "collapsed": false
   }
  },
  {
   "cell_type": "code",
   "execution_count": 146,
   "outputs": [
    {
     "data": {
      "text/plain": "{'other': [{'title': 'other',\n   'products': [{'title': 'Wood Pellets A1 Enplus Wood Pellet'},\n    {'title': 'Wood Pellets Acacia Wood Pellet'},\n    {'title': 'Wood Pellets Beech Wood Pellet For Sale'},\n    {'title': 'Wood Pellets Ruf Bark Briquettes For Sale'},\n    {'title': 'Lignetics Pellets'},\n    {'title': 'Enplus Wood'},\n    {'title': 'Wood Pellets Ruf'},\n    {'title': 'Pure Wood Pellets'},\n    {'title': 'Beech Wood Pellets'},\n    {'title': 'Din Plus Wood Pellets'},\n    {'title': 'Wood Pellets A1'},\n    {'title': 'Biomass Pellets Fuel'},\n    {'title': 'Wood Pellets Beech Wood Pellet'},\n    {'title': 'Charcoal Hexagonal Charcoal For Sale'},\n    {'title': 'Pellet Stoves'},\n    {'title': 'Energex Pellets'},\n    {'title': 'Wood Pellets Pine Wood Pellet'},\n    {'title': 'Products Tagged'},\n    {'title': 'Lignetics Pellets Pine Firewood'},\n    {'title': 'Wood Pellets Spruce Wood Pellet'},\n    {'title': 'Polar Firewood'},\n    {'title': 'A1 Enplus Wood Pellet'},\n    {'title': 'Enplus Wood Pellet'},\n    {'title': 'Beech Wood Pellet'},\n    {'title': 'Fire Wood Kiln Dried Oak'},\n    {'title': 'Firewood For Sale'},\n    {'title': 'Home Fires'},\n    {'title': 'Kiln Drying'},\n    {'title': 'Dried Firewood'},\n    {'title': 'Charcoal Hardwood Charcoal For Sale'},\n    {'title': 'Wood Pellets Pine Wood Pellet For Sale'},\n    {'title': 'Wood Pellets Spruce Wood Pellet For Sale'},\n    {'title': 'Fire Wood Pine Firewood For Sale'},\n    {'title': 'Stock Units'},\n    {'title': 'Picea Abies'},\n    {'title': 'Fresh Round'},\n    {'title': 'Pinus Sylvestris'},\n    {'title': 'Kiln Dried Firewood'},\n    {'title': 'Home / Wood Pellets'},\n    {'title': 'Ruf Bark Briquettes'},\n    {'title': 'Spruce Wood Pellet'},\n    {'title': 'Bark Briquettes'},\n    {'title': 'Tbilt HP22I Pellet Stove Fireplace Insert'},\n    {'title': 'Materials Engineering'},\n    {'title': 'Setup Tools'},\n    {'title': 'Acacia Wood Pellet'},\n    {'title': 'Kiln Dried Oak'},\n    {'title': 'Birch , Kiln Dried Oak'},\n    {'title': 'Reusing Units'}]}],\n 'fuels and fuel additives and lubricants and anti corrosive materials': [{'title': 'fuels',\n   'products': [{'title': 'Bio Fuels'},\n    {'title': 'Charcoal Hardwood Charcoal'},\n    {'title': 'Charcoal Hexagonal Charcoal'},\n    {'title': 'Hexagonal Charcoal'}]}],\n 'musical instruments and games and toys and arts and crafts and educational equipment and materials and accessories and supplies': [{'title': 'arts and crafts equipment and accessories and supplies',\n   'products': [{'title': 'Wood Pellets'}, {'title': 'Plates And Sheets'}]}],\n 'distribution and conditioning systems and equipment and components': [{'title': 'heating and ventilation and air circulation',\n   'products': [{'title': 'Heating System'},\n    {'title': 'Fireplace Inserts'},\n    {'title': 'Fuel Boilers'}]}],\n 'mineral and textile and inedible plant and animal materials': [{'title': 'non edible plant and forestry products',\n   'products': [{'title': 'Mixed Wood'},\n    {'title': 'Pine Firewood'},\n    {'title': 'Pine Wood Pellet'},\n    {'title': 'Birch Firewood'},\n    {'title': 'Pine Firewood Birch Firewood'},\n    {'title': 'Fire Wood'},\n    {'title': 'Fire Wood Polar Firewood'},\n    {'title': 'Fire Wood Pine Firewood'},\n    {'title': 'Fire Wood Beech Firewood'},\n    {'title': 'Soft Wood'},\n    {'title': 'Sawn Timber'},\n    {'title': 'Pure Wood'},\n    {'title': 'Beech Firewood'},\n    {'title': 'Dried Oak'}]},\n  {'title': 'metal waste and scrap',\n   'products': [{'title': 'Metals Scrap'},\n    {'title': 'Metal Piece'},\n    {'title': 'Scrap Metals'}]},\n  {'title': 'minerals and ores and metals',\n   'products': [{'title': 'Aluminum & Stainless'}]},\n  {'title': 'fabrics and leather materials',\n   'products': [{'title': 'Binding Materials'}]},\n  {'title': 'scrap and waste materials',\n   'products': [{'title': 'Scrap Recycling'}]}],\n 'apparel and luggage and personal care products': [{'title': 'clothing',\n   'products': [{'title': 'Driving Suits'}]}],\n 'electronic components and supplies': [{'title': 'electronic hardware and component parts and accessories',\n   'products': [{'title': 'Hardware Parts'}]}],\n 'structures and building and construction and manufacturing components and supplies': [{'title': 'structural components and basic shapes',\n   'products': [{'title': 'Plate And Sheet'}]}],\n 'farming and fishing and forestry and wildlife contracting services': [{'title': 'forestry',\n   'products': [{'title': 'Wood Fuels'},\n    {'title': 'Wood Fuel Pellets'},\n    {'title': 'Wood Fuel Briquettes'}]}],\n 'live plant and animal material and accessories and supplies': [{'title': 'animal feed',\n   'products': [{'title': 'Pellet Products'}]},\n  {'title': 'floriculture and silviculture products',\n   'products': [{'title': 'Spruce Firewood'}]}],\n 'engineering and research and technology based services': [{'title': 'manufacturing technologies',\n   'products': [{'title': 'Logistics And Deliveries'}]}],\n 'chemicals including bio chemicals and gas materials': [{'title': 'chemicals including bio chemicals and gas materials',\n   'products': [{'title': 'Chemicals'}]}],\n 'laboratory and measuring and observing and testing equipment': [{'title': 'measuring and observing and testing instruments',\n   'products': [{'title': 'Calorific Value'}]}],\n 'land and buildings and structures and thoroughfares': [{'title': 'permanent buildings and structures',\n   'products': [{'title': 'Fire Place'}]}],\n 'power generation and distribution machinery and accessories': [{'title': 'electrical wire and cable and harness',\n   'products': [{'title': 'Metal Wire'}]}]}"
     },
     "execution_count": 146,
     "metadata": {},
     "output_type": "execute_result"
    }
   ],
   "source": [
    "categories_dict"
   ],
   "metadata": {
    "collapsed": false
   }
  },
  {
   "cell_type": "code",
   "execution_count": 147,
   "outputs": [],
   "source": [
    "final_json = {'categories': []}\n",
    "for key in categories_dict.keys():\n",
    "    final_json['categories'].append({'title': key, 'subcategories': categories_dict[key]})"
   ],
   "metadata": {
    "collapsed": false
   }
  },
  {
   "cell_type": "code",
   "execution_count": 148,
   "outputs": [
    {
     "data": {
      "text/plain": "{'categories': [{'title': 'other',\n   'subcategories': [{'title': 'other',\n     'products': [{'title': 'Wood Pellets A1 Enplus Wood Pellet'},\n      {'title': 'Wood Pellets Acacia Wood Pellet'},\n      {'title': 'Wood Pellets Beech Wood Pellet For Sale'},\n      {'title': 'Wood Pellets Ruf Bark Briquettes For Sale'},\n      {'title': 'Lignetics Pellets'},\n      {'title': 'Enplus Wood'},\n      {'title': 'Wood Pellets Ruf'},\n      {'title': 'Pure Wood Pellets'},\n      {'title': 'Beech Wood Pellets'},\n      {'title': 'Din Plus Wood Pellets'},\n      {'title': 'Wood Pellets A1'},\n      {'title': 'Biomass Pellets Fuel'},\n      {'title': 'Wood Pellets Beech Wood Pellet'},\n      {'title': 'Charcoal Hexagonal Charcoal For Sale'},\n      {'title': 'Pellet Stoves'},\n      {'title': 'Energex Pellets'},\n      {'title': 'Wood Pellets Pine Wood Pellet'},\n      {'title': 'Products Tagged'},\n      {'title': 'Lignetics Pellets Pine Firewood'},\n      {'title': 'Wood Pellets Spruce Wood Pellet'},\n      {'title': 'Polar Firewood'},\n      {'title': 'A1 Enplus Wood Pellet'},\n      {'title': 'Enplus Wood Pellet'},\n      {'title': 'Beech Wood Pellet'},\n      {'title': 'Fire Wood Kiln Dried Oak'},\n      {'title': 'Firewood For Sale'},\n      {'title': 'Home Fires'},\n      {'title': 'Kiln Drying'},\n      {'title': 'Dried Firewood'},\n      {'title': 'Charcoal Hardwood Charcoal For Sale'},\n      {'title': 'Wood Pellets Pine Wood Pellet For Sale'},\n      {'title': 'Wood Pellets Spruce Wood Pellet For Sale'},\n      {'title': 'Fire Wood Pine Firewood For Sale'},\n      {'title': 'Stock Units'},\n      {'title': 'Picea Abies'},\n      {'title': 'Fresh Round'},\n      {'title': 'Pinus Sylvestris'},\n      {'title': 'Kiln Dried Firewood'},\n      {'title': 'Home / Wood Pellets'},\n      {'title': 'Ruf Bark Briquettes'},\n      {'title': 'Spruce Wood Pellet'},\n      {'title': 'Bark Briquettes'},\n      {'title': 'Tbilt HP22I Pellet Stove Fireplace Insert'},\n      {'title': 'Materials Engineering'},\n      {'title': 'Setup Tools'},\n      {'title': 'Acacia Wood Pellet'},\n      {'title': 'Kiln Dried Oak'},\n      {'title': 'Birch , Kiln Dried Oak'},\n      {'title': 'Reusing Units'}]}]},\n  {'title': 'fuels and fuel additives and lubricants and anti corrosive materials',\n   'subcategories': [{'title': 'fuels',\n     'products': [{'title': 'Bio Fuels'},\n      {'title': 'Charcoal Hardwood Charcoal'},\n      {'title': 'Charcoal Hexagonal Charcoal'},\n      {'title': 'Hexagonal Charcoal'}]}]},\n  {'title': 'musical instruments and games and toys and arts and crafts and educational equipment and materials and accessories and supplies',\n   'subcategories': [{'title': 'arts and crafts equipment and accessories and supplies',\n     'products': [{'title': 'Wood Pellets'},\n      {'title': 'Plates And Sheets'}]}]},\n  {'title': 'distribution and conditioning systems and equipment and components',\n   'subcategories': [{'title': 'heating and ventilation and air circulation',\n     'products': [{'title': 'Heating System'},\n      {'title': 'Fireplace Inserts'},\n      {'title': 'Fuel Boilers'}]}]},\n  {'title': 'mineral and textile and inedible plant and animal materials',\n   'subcategories': [{'title': 'non edible plant and forestry products',\n     'products': [{'title': 'Mixed Wood'},\n      {'title': 'Pine Firewood'},\n      {'title': 'Pine Wood Pellet'},\n      {'title': 'Birch Firewood'},\n      {'title': 'Pine Firewood Birch Firewood'},\n      {'title': 'Fire Wood'},\n      {'title': 'Fire Wood Polar Firewood'},\n      {'title': 'Fire Wood Pine Firewood'},\n      {'title': 'Fire Wood Beech Firewood'},\n      {'title': 'Soft Wood'},\n      {'title': 'Sawn Timber'},\n      {'title': 'Pure Wood'},\n      {'title': 'Beech Firewood'},\n      {'title': 'Dried Oak'}]},\n    {'title': 'metal waste and scrap',\n     'products': [{'title': 'Metals Scrap'},\n      {'title': 'Metal Piece'},\n      {'title': 'Scrap Metals'}]},\n    {'title': 'minerals and ores and metals',\n     'products': [{'title': 'Aluminum & Stainless'}]},\n    {'title': 'fabrics and leather materials',\n     'products': [{'title': 'Binding Materials'}]},\n    {'title': 'scrap and waste materials',\n     'products': [{'title': 'Scrap Recycling'}]}]},\n  {'title': 'apparel and luggage and personal care products',\n   'subcategories': [{'title': 'clothing',\n     'products': [{'title': 'Driving Suits'}]}]},\n  {'title': 'electronic components and supplies',\n   'subcategories': [{'title': 'electronic hardware and component parts and accessories',\n     'products': [{'title': 'Hardware Parts'}]}]},\n  {'title': 'structures and building and construction and manufacturing components and supplies',\n   'subcategories': [{'title': 'structural components and basic shapes',\n     'products': [{'title': 'Plate And Sheet'}]}]},\n  {'title': 'farming and fishing and forestry and wildlife contracting services',\n   'subcategories': [{'title': 'forestry',\n     'products': [{'title': 'Wood Fuels'},\n      {'title': 'Wood Fuel Pellets'},\n      {'title': 'Wood Fuel Briquettes'}]}]},\n  {'title': 'live plant and animal material and accessories and supplies',\n   'subcategories': [{'title': 'animal feed',\n     'products': [{'title': 'Pellet Products'}]},\n    {'title': 'floriculture and silviculture products',\n     'products': [{'title': 'Spruce Firewood'}]}]},\n  {'title': 'engineering and research and technology based services',\n   'subcategories': [{'title': 'manufacturing technologies',\n     'products': [{'title': 'Logistics And Deliveries'}]}]},\n  {'title': 'chemicals including bio chemicals and gas materials',\n   'subcategories': [{'title': 'chemicals including bio chemicals and gas materials',\n     'products': [{'title': 'Chemicals'}]}]},\n  {'title': 'laboratory and measuring and observing and testing equipment',\n   'subcategories': [{'title': 'measuring and observing and testing instruments',\n     'products': [{'title': 'Calorific Value'}]}]},\n  {'title': 'land and buildings and structures and thoroughfares',\n   'subcategories': [{'title': 'permanent buildings and structures',\n     'products': [{'title': 'Fire Place'}]}]},\n  {'title': 'power generation and distribution machinery and accessories',\n   'subcategories': [{'title': 'electrical wire and cable and harness',\n     'products': [{'title': 'Metal Wire'}]}]}]}"
     },
     "execution_count": 148,
     "metadata": {},
     "output_type": "execute_result"
    }
   ],
   "source": [
    "final_json"
   ],
   "metadata": {
    "collapsed": false
   }
  },
  {
   "cell_type": "code",
   "execution_count": 149,
   "outputs": [],
   "source": [
    "with open('data/categories.json', 'w') as f:\n",
    "    json.dump(final_json, f, indent=4)"
   ],
   "metadata": {
    "collapsed": false
   }
  },
  {
   "cell_type": "code",
   "execution_count": null,
   "outputs": [],
   "source": [],
   "metadata": {
    "collapsed": false
   }
  }
 ],
 "metadata": {
  "kernelspec": {
   "display_name": "Python 3",
   "language": "python",
   "name": "python3"
  },
  "language_info": {
   "codemirror_mode": {
    "name": "ipython",
    "version": 2
   },
   "file_extension": ".py",
   "mimetype": "text/x-python",
   "name": "python",
   "nbconvert_exporter": "python",
   "pygments_lexer": "ipython2",
   "version": "2.7.6"
  }
 },
 "nbformat": 4,
 "nbformat_minor": 0
}
